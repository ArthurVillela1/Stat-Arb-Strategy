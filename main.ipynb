{
 "cells": [
  {
   "cell_type": "code",
   "execution_count": 50,
   "metadata": {},
   "outputs": [],
   "source": [
    "import pandas as pd\n",
    "import random\n",
    "import yfinance as yf\n",
    "from datetime import datetime\n",
    "import numpy as np\n",
    "import seaborn as sn\n",
    "from matplotlib.pyplot import figure\n",
    "from statsmodels.tsa.stattools import coint\n",
    "from statsmodels.tsa.stattools import adfuller"
   ]
  },
  {
   "cell_type": "code",
   "execution_count": 51,
   "metadata": {},
   "outputs": [],
   "source": [
    "def get_sp500_tickers(sample_size=50):\n",
    "    url = 'https://en.wikipedia.org/wiki/List_of_S%26P_500_companies'\n",
    "    table = pd.read_html(url)[0]  # Extract the first table\n",
    "    tickers = table['Symbol'].tolist()  # Get tickers from the 'Symbol' column\n",
    "    \n",
    "    # Randomly select 50 tickers from the list\n",
    "    sample_tickers = random.sample(tickers, sample_size)\n",
    "    \n",
    "    return sample_tickers"
   ]
  },
  {
   "cell_type": "code",
   "execution_count": 52,
   "metadata": {},
   "outputs": [],
   "source": [
    "def get_historical_data(tickers):\n",
    "    data = pd.DataFrame()\n",
    "    for i in tickers:\n",
    "        stock_data = yf.download(i, start=\"2022-01-01\", end=\"2024-09-10\")  # Use yfinance to download data\n",
    "        data[i] = stock_data['Adj Close']  # Store adjusted close price\n",
    "    return data"
   ]
  },
  {
   "cell_type": "code",
   "execution_count": 53,
   "metadata": {},
   "outputs": [],
   "source": [
    "def adf_test(series):\n",
    "    result = adfuller(series)\n",
    "    return result[1]  # Return the p-value"
   ]
  },
  {
   "cell_type": "code",
   "execution_count": 54,
   "metadata": {},
   "outputs": [],
   "source": [
    "def cointegration_test(data):\n",
    "    pairs = []\n",
    "    results = []\n",
    "    \n",
    "    tickers = data.columns\n",
    "    for i in range(len(tickers)):\n",
    "        for j in range(i + 1, len(tickers)):\n",
    "            x = data[tickers[i]].dropna()\n",
    "            y = data[tickers[j]].dropna()\n",
    "            \n",
    "            # Align the two series by their index\n",
    "            x, y = x.align(y, join='inner')\n",
    "            \n",
    "            # Check for missing values after alignment\n",
    "            if x.empty or y.empty:\n",
    "                continue\n",
    "            \n",
    "            # Perform cointegration test\n",
    "            try:\n",
    "                score, p_value, _ = coint(x, y)\n",
    "            except ValueError:\n",
    "                # Skip if there's an issue with the data\n",
    "                continue\n",
    "            \n",
    "            # Check if the spread is stationary\n",
    "            spread = x - y\n",
    "            adf_p_value = adf_test(spread)\n",
    "            \n",
    "            # Store results\n",
    "            pairs.append((tickers[i], tickers[j]))\n",
    "            results.append((tickers[i], tickers[j], score, p_value, adf_p_value))\n",
    "    \n",
    "    # Create a DataFrame with results\n",
    "    results_df = pd.DataFrame(results, columns=['Stock 1', 'Stock 2', 'Cointegration Score', 'Cointegration p-value', 'ADF p-value'])\n",
    "    return results_df"
   ]
  },
  {
   "cell_type": "code",
   "execution_count": 55,
   "metadata": {},
   "outputs": [
    {
     "name": "stderr",
     "output_type": "stream",
     "text": [
      "[*********************100%***********************]  1 of 1 completed\n",
      "[*********************100%***********************]  1 of 1 completed\n",
      "[*********************100%***********************]  1 of 1 completed\n",
      "[*********************100%***********************]  1 of 1 completed\n",
      "[*********************100%***********************]  1 of 1 completed\n",
      "[*********************100%***********************]  1 of 1 completed\n",
      "[*********************100%***********************]  1 of 1 completed\n",
      "[*********************100%***********************]  1 of 1 completed\n",
      "[*********************100%***********************]  1 of 1 completed\n",
      "[*********************100%***********************]  1 of 1 completed\n",
      "[*********************100%***********************]  1 of 1 completed\n",
      "[*********************100%***********************]  1 of 1 completed\n",
      "[*********************100%***********************]  1 of 1 completed\n",
      "[*********************100%***********************]  1 of 1 completed\n",
      "[*********************100%***********************]  1 of 1 completed\n",
      "[*********************100%***********************]  1 of 1 completed\n",
      "[*********************100%***********************]  1 of 1 completed\n",
      "[*********************100%***********************]  1 of 1 completed\n",
      "[*********************100%***********************]  1 of 1 completed\n",
      "[*********************100%***********************]  1 of 1 completed\n",
      "[*********************100%***********************]  1 of 1 completed\n",
      "[*********************100%***********************]  1 of 1 completed\n",
      "[*********************100%***********************]  1 of 1 completed\n",
      "[*********************100%***********************]  1 of 1 completed\n",
      "[*********************100%***********************]  1 of 1 completed\n",
      "[*********************100%***********************]  1 of 1 completed\n",
      "[*********************100%***********************]  1 of 1 completed\n",
      "[*********************100%***********************]  1 of 1 completed\n",
      "[*********************100%***********************]  1 of 1 completed\n",
      "[*********************100%***********************]  1 of 1 completed\n",
      "[*********************100%***********************]  1 of 1 completed\n",
      "[*********************100%***********************]  1 of 1 completed\n",
      "[*********************100%***********************]  1 of 1 completed\n",
      "[*********************100%***********************]  1 of 1 completed\n",
      "[*********************100%***********************]  1 of 1 completed\n",
      "[*********************100%***********************]  1 of 1 completed\n",
      "[*********************100%***********************]  1 of 1 completed\n",
      "[*********************100%***********************]  1 of 1 completed\n",
      "[*********************100%***********************]  1 of 1 completed\n",
      "[*********************100%***********************]  1 of 1 completed\n",
      "[*********************100%***********************]  1 of 1 completed\n",
      "[*********************100%***********************]  1 of 1 completed\n",
      "[*********************100%***********************]  1 of 1 completed\n",
      "[*********************100%***********************]  1 of 1 completed\n",
      "[*********************100%***********************]  1 of 1 completed\n",
      "[*********************100%***********************]  1 of 1 completed\n",
      "[*********************100%***********************]  1 of 1 completed\n",
      "[*********************100%***********************]  1 of 1 completed\n",
      "[*********************100%***********************]  1 of 1 completed\n",
      "[*********************100%***********************]  1 of 1 completed\n"
     ]
    },
    {
     "name": "stdout",
     "output_type": "stream",
     "text": [
      "    Stock 1 Stock 2  Cointegration Score  Cointegration p-value  ADF p-value\n",
      "727    EPAM      CL            -5.128490               0.000095     0.011194\n",
      "722    EPAM     LYB            -4.946360               0.000206     0.000451\n",
      "724    EPAM     AIG            -4.831019               0.000333     0.002234\n",
      "183    QRVO     LYB            -4.687603               0.000592     0.000032\n",
      "147    QRVO      LH            -4.672917               0.000628     0.000288\n",
      "717    EPAM     CSX            -4.634356               0.000730     0.015378\n",
      "178    QRVO     CSX            -4.572479               0.000929     0.000220\n",
      "185    QRVO     AIG            -4.494405               0.001251     0.002451\n",
      "698    EPAM     KHC            -4.491044               0.001267     0.014608\n",
      "706    EPAM     TRV            -4.482263               0.001309     0.000075\n"
     ]
    }
   ],
   "source": [
    "# Get the list of S&P 500 tickers\n",
    "ticks = get_sp500_tickers()\n",
    "\n",
    "# Fetch historical data for all tickers\n",
    "historical_data = get_historical_data(ticks)\n",
    "\n",
    "# Perform cointegration test on stock pairs\n",
    "results_df = cointegration_test(historical_data)\n",
    "\n",
    "# Filter pairs with the lowest ADF p-values (indicating stationarity)\n",
    "filtered_results = results_df[results_df['ADF p-value'] < 0.05]\n",
    "\n",
    "# Sort by the cointegration score or p-value to find the most cointegrated pairs\n",
    "sorted_results = filtered_results.sort_values(by='Cointegration Score', ascending=True)\n",
    "\n",
    "# Display the top results\n",
    "# print(historical_data)\n",
    "print(sorted_results.head(10))"
   ]
  }
 ],
 "metadata": {
  "kernelspec": {
   "display_name": "Python 3",
   "language": "python",
   "name": "python3"
  },
  "language_info": {
   "codemirror_mode": {
    "name": "ipython",
    "version": 3
   },
   "file_extension": ".py",
   "mimetype": "text/x-python",
   "name": "python",
   "nbconvert_exporter": "python",
   "pygments_lexer": "ipython3",
   "version": "3.11.9"
  }
 },
 "nbformat": 4,
 "nbformat_minor": 2
}
