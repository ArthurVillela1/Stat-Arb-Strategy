{
 "cells": [
  {
   "cell_type": "code",
   "execution_count": 19,
   "metadata": {},
   "outputs": [],
   "source": [
    "import pandas as pd\n",
    "import random\n",
    "import yfinance as yf\n",
    "import numpy as np\n",
    "from statsmodels.tsa.stattools import coint, adfuller\n",
    "from sklearn.model_selection import train_test_split\n",
    "from sklearn.ensemble import RandomForestClassifier"
   ]
  },
  {
   "cell_type": "code",
   "execution_count": 20,
   "metadata": {},
   "outputs": [],
   "source": [
    "# Get S&P 500 tickers\n",
    "def get_sp500_tickers(sample_size=250):\n",
    "    url = 'https://en.wikipedia.org/wiki/List_of_S%26P_500_companies'\n",
    "    table = pd.read_html(url)[0]\n",
    "    tickers = table['Symbol'].tolist()\n",
    "    sample_tickers = random.sample(tickers, sample_size)\n",
    "    return sample_tickers"
   ]
  },
  {
   "cell_type": "code",
   "execution_count": 21,
   "metadata": {},
   "outputs": [],
   "source": [
    "# Fetch historical data\n",
    "def get_historical_data(tickers):\n",
    "    data = pd.DataFrame()\n",
    "    for i in tickers:\n",
    "        stock_data = yf.download(i, start=\"2022-01-01\", end=\"2024-09-10\")\n",
    "        data[i] = stock_data['Adj Close']\n",
    "    return data"
   ]
  },
  {
   "cell_type": "code",
   "execution_count": 22,
   "metadata": {},
   "outputs": [],
   "source": [
    "# Perform the ADF test for stationarity\n",
    "def adf_test(series):\n",
    "    result = adfuller(series)\n",
    "    return result[1]  # Return p-val"
   ]
  },
  {
   "cell_type": "code",
   "execution_count": 23,
   "metadata": {},
   "outputs": [],
   "source": [
    "# Cointegration test between pairs of stocks\n",
    "def cointegration_test(data):\n",
    "    pairs = []\n",
    "    results = []\n",
    "    \n",
    "    tickers = data.columns\n",
    "    for i in range(len(tickers)):\n",
    "        for j in range(i + 1, len(tickers)):\n",
    "            x = data[tickers[i]].dropna()\n",
    "            y = data[tickers[j]].dropna()\n",
    "            \n",
    "            x, y = x.align(y, join='inner')  # Align x and y by matching labels (dates)\n",
    "            if x.empty or y.empty:\n",
    "                continue\n",
    "            \n",
    "            try:\n",
    "                score, p_value, _ = coint(x, y)\n",
    "            except ValueError:\n",
    "                continue\n",
    "            \n",
    "            ratio = x / y\n",
    "            adf_p_value = adf_test(ratio)\n",
    "            \n",
    "            pairs.append((tickers[i], tickers[j]))\n",
    "            results.append((tickers[i], tickers[j], score, p_value, adf_p_value))\n",
    "    \n",
    "    results_df = pd.DataFrame(results, columns=['Stock 1', 'Stock 2', 'Cointegration Score', 'Cointegration p-value', 'ADF p-value'])\n",
    "    return results_df"
   ]
  },
  {
   "cell_type": "code",
   "execution_count": 24,
   "metadata": {},
   "outputs": [],
   "source": [
    "# Calculate z-score for the ratio\n",
    "def calculate_zscore(ratio):\n",
    "    mean = ratio.rolling(window=30).mean()\n",
    "    std = ratio.rolling(window=30).std()\n",
    "    zscore = (ratio - mean) / std\n",
    "    return zscore"
   ]
  },
  {
   "cell_type": "code",
   "execution_count": 25,
   "metadata": {},
   "outputs": [],
   "source": [
    "# Feature engineering: calculate moving averages and z-scores\n",
    "def generate_features(ratio):\n",
    "    ratio = ratio.dropna()\n",
    "    features = pd.DataFrame()\n",
    "    \n",
    "    features['30d_ma'] = ratio.rolling(window=30).mean()\n",
    "    features['5d_ma'] = ratio.rolling(window=5).mean()\n",
    "    features['z_score'] = calculate_zscore(ratio)\n",
    "    \n",
    "    # Drop rows with NaN values after rolling windows\n",
    "    features.dropna(inplace=True)\n",
    "    \n",
    "    return features"
   ]
  },
  {
   "cell_type": "code",
   "execution_count": 26,
   "metadata": {},
   "outputs": [
    {
     "name": "stderr",
     "output_type": "stream",
     "text": [
      "[*********************100%***********************]  1 of 1 completed\n",
      "[*********************100%***********************]  1 of 1 completed\n",
      "[*********************100%***********************]  1 of 1 completed\n",
      "[*********************100%***********************]  1 of 1 completed\n",
      "[*********************100%***********************]  1 of 1 completed\n",
      "[*********************100%***********************]  1 of 1 completed\n",
      "[*********************100%***********************]  1 of 1 completed\n",
      "[*********************100%***********************]  1 of 1 completed\n",
      "[*********************100%***********************]  1 of 1 completed\n",
      "[*********************100%***********************]  1 of 1 completed\n",
      "[*********************100%***********************]  1 of 1 completed\n",
      "[*********************100%***********************]  1 of 1 completed\n",
      "[*********************100%***********************]  1 of 1 completed\n",
      "[*********************100%***********************]  1 of 1 completed\n",
      "[*********************100%***********************]  1 of 1 completed\n",
      "[*********************100%***********************]  1 of 1 completed\n",
      "[*********************100%***********************]  1 of 1 completed\n",
      "[*********************100%***********************]  1 of 1 completed\n",
      "[*********************100%***********************]  1 of 1 completed\n",
      "[*********************100%***********************]  1 of 1 completed\n",
      "[*********************100%***********************]  1 of 1 completed\n",
      "[*********************100%***********************]  1 of 1 completed\n",
      "[*********************100%***********************]  1 of 1 completed\n",
      "[*********************100%***********************]  1 of 1 completed\n",
      "[*********************100%***********************]  1 of 1 completed\n",
      "[*********************100%***********************]  1 of 1 completed\n",
      "[*********************100%***********************]  1 of 1 completed\n"
     ]
    },
    {
     "ename": "KeyboardInterrupt",
     "evalue": "",
     "output_type": "error",
     "traceback": [
      "\u001b[0;31m---------------------------------------------------------------------------\u001b[0m",
      "\u001b[0;31mKeyboardInterrupt\u001b[0m                         Traceback (most recent call last)",
      "Cell \u001b[0;32mIn[26], line 3\u001b[0m\n\u001b[1;32m      1\u001b[0m \u001b[38;5;66;03m# Get S&P 500 tickers and historical data\u001b[39;00m\n\u001b[1;32m      2\u001b[0m ticks \u001b[38;5;241m=\u001b[39m get_sp500_tickers()\n\u001b[0;32m----> 3\u001b[0m historical_data \u001b[38;5;241m=\u001b[39m \u001b[43mget_historical_data\u001b[49m\u001b[43m(\u001b[49m\u001b[43mticks\u001b[49m\u001b[43m)\u001b[49m\n\u001b[1;32m      5\u001b[0m \u001b[38;5;66;03m# Cointegration test\u001b[39;00m\n\u001b[1;32m      6\u001b[0m results_df \u001b[38;5;241m=\u001b[39m cointegration_test(historical_data)\n",
      "Cell \u001b[0;32mIn[21], line 5\u001b[0m, in \u001b[0;36mget_historical_data\u001b[0;34m(tickers)\u001b[0m\n\u001b[1;32m      3\u001b[0m data \u001b[38;5;241m=\u001b[39m pd\u001b[38;5;241m.\u001b[39mDataFrame()\n\u001b[1;32m      4\u001b[0m \u001b[38;5;28;01mfor\u001b[39;00m i \u001b[38;5;129;01min\u001b[39;00m tickers:\n\u001b[0;32m----> 5\u001b[0m     stock_data \u001b[38;5;241m=\u001b[39m \u001b[43myf\u001b[49m\u001b[38;5;241;43m.\u001b[39;49m\u001b[43mdownload\u001b[49m\u001b[43m(\u001b[49m\u001b[43mi\u001b[49m\u001b[43m,\u001b[49m\u001b[43m \u001b[49m\u001b[43mstart\u001b[49m\u001b[38;5;241;43m=\u001b[39;49m\u001b[38;5;124;43m\"\u001b[39;49m\u001b[38;5;124;43m2022-01-01\u001b[39;49m\u001b[38;5;124;43m\"\u001b[39;49m\u001b[43m,\u001b[49m\u001b[43m \u001b[49m\u001b[43mend\u001b[49m\u001b[38;5;241;43m=\u001b[39;49m\u001b[38;5;124;43m\"\u001b[39;49m\u001b[38;5;124;43m2024-09-10\u001b[39;49m\u001b[38;5;124;43m\"\u001b[39;49m\u001b[43m)\u001b[49m\n\u001b[1;32m      6\u001b[0m     data[i] \u001b[38;5;241m=\u001b[39m stock_data[\u001b[38;5;124m'\u001b[39m\u001b[38;5;124mAdj Close\u001b[39m\u001b[38;5;124m'\u001b[39m]\n\u001b[1;32m      7\u001b[0m \u001b[38;5;28;01mreturn\u001b[39;00m data\n",
      "File \u001b[0;32m~/.local/lib/python3.11/site-packages/yfinance/utils.py:104\u001b[0m, in \u001b[0;36mlog_indent_decorator.<locals>.wrapper\u001b[0;34m(*args, **kwargs)\u001b[0m\n\u001b[1;32m    101\u001b[0m logger\u001b[38;5;241m.\u001b[39mdebug(\u001b[38;5;124mf\u001b[39m\u001b[38;5;124m'\u001b[39m\u001b[38;5;124mEntering \u001b[39m\u001b[38;5;132;01m{\u001b[39;00mfunc\u001b[38;5;241m.\u001b[39m\u001b[38;5;18m__name__\u001b[39m\u001b[38;5;132;01m}\u001b[39;00m\u001b[38;5;124m()\u001b[39m\u001b[38;5;124m'\u001b[39m)\n\u001b[1;32m    103\u001b[0m \u001b[38;5;28;01mwith\u001b[39;00m IndentationContext():\n\u001b[0;32m--> 104\u001b[0m     result \u001b[38;5;241m=\u001b[39m \u001b[43mfunc\u001b[49m\u001b[43m(\u001b[49m\u001b[38;5;241;43m*\u001b[39;49m\u001b[43margs\u001b[49m\u001b[43m,\u001b[49m\u001b[43m \u001b[49m\u001b[38;5;241;43m*\u001b[39;49m\u001b[38;5;241;43m*\u001b[39;49m\u001b[43mkwargs\u001b[49m\u001b[43m)\u001b[49m\n\u001b[1;32m    106\u001b[0m logger\u001b[38;5;241m.\u001b[39mdebug(\u001b[38;5;124mf\u001b[39m\u001b[38;5;124m'\u001b[39m\u001b[38;5;124mExiting \u001b[39m\u001b[38;5;132;01m{\u001b[39;00mfunc\u001b[38;5;241m.\u001b[39m\u001b[38;5;18m__name__\u001b[39m\u001b[38;5;132;01m}\u001b[39;00m\u001b[38;5;124m()\u001b[39m\u001b[38;5;124m'\u001b[39m)\n\u001b[1;32m    107\u001b[0m \u001b[38;5;28;01mreturn\u001b[39;00m result\n",
      "File \u001b[0;32m~/.local/lib/python3.11/site-packages/yfinance/multi.py:152\u001b[0m, in \u001b[0;36mdownload\u001b[0;34m(tickers, start, end, actions, threads, ignore_tz, group_by, auto_adjust, back_adjust, repair, keepna, progress, period, interval, prepost, proxy, rounding, timeout, session)\u001b[0m\n\u001b[1;32m    145\u001b[0m         _download_one_threaded(ticker, period\u001b[38;5;241m=\u001b[39mperiod, interval\u001b[38;5;241m=\u001b[39minterval,\n\u001b[1;32m    146\u001b[0m                                start\u001b[38;5;241m=\u001b[39mstart, end\u001b[38;5;241m=\u001b[39mend, prepost\u001b[38;5;241m=\u001b[39mprepost,\n\u001b[1;32m    147\u001b[0m                                actions\u001b[38;5;241m=\u001b[39mactions, auto_adjust\u001b[38;5;241m=\u001b[39mauto_adjust,\n\u001b[1;32m    148\u001b[0m                                back_adjust\u001b[38;5;241m=\u001b[39mback_adjust, repair\u001b[38;5;241m=\u001b[39mrepair, keepna\u001b[38;5;241m=\u001b[39mkeepna,\n\u001b[1;32m    149\u001b[0m                                progress\u001b[38;5;241m=\u001b[39m(progress \u001b[38;5;129;01mand\u001b[39;00m i \u001b[38;5;241m>\u001b[39m \u001b[38;5;241m0\u001b[39m), proxy\u001b[38;5;241m=\u001b[39mproxy,\n\u001b[1;32m    150\u001b[0m                                rounding\u001b[38;5;241m=\u001b[39mrounding, timeout\u001b[38;5;241m=\u001b[39mtimeout)\n\u001b[1;32m    151\u001b[0m     \u001b[38;5;28;01mwhile\u001b[39;00m \u001b[38;5;28mlen\u001b[39m(shared\u001b[38;5;241m.\u001b[39m_DFS) \u001b[38;5;241m<\u001b[39m \u001b[38;5;28mlen\u001b[39m(tickers):\n\u001b[0;32m--> 152\u001b[0m         _time\u001b[38;5;241m.\u001b[39msleep(\u001b[38;5;241m0.01\u001b[39m)\n\u001b[1;32m    153\u001b[0m \u001b[38;5;66;03m# download synchronously\u001b[39;00m\n\u001b[1;32m    154\u001b[0m \u001b[38;5;28;01melse\u001b[39;00m:\n\u001b[1;32m    155\u001b[0m     \u001b[38;5;28;01mfor\u001b[39;00m i, ticker \u001b[38;5;129;01min\u001b[39;00m \u001b[38;5;28menumerate\u001b[39m(tickers):\n",
      "\u001b[0;31mKeyboardInterrupt\u001b[0m: "
     ]
    }
   ],
   "source": [
    "# Get S&P 500 tickers and historical data\n",
    "ticks = get_sp500_tickers()\n",
    "historical_data = get_historical_data(ticks)\n",
    "\n",
    "# Cointegration test\n",
    "results_df = cointegration_test(historical_data)\n",
    "\n",
    "# Filter pairs with the lowest ADF p-values\n",
    "filtered_results = results_df[results_df['ADF p-value'] < 0.05]\n",
    "\n",
    "# Sort pairs by cointegration score to find the most cointegrated pair\n",
    "sorted_results = filtered_results.sort_values(by='Cointegration Score', ascending=True)\n",
    "\n",
    "# Get the top cointegrated pair\n",
    "top_pair = sorted_results.iloc[0]\n",
    "stock1, stock2 = top_pair['Stock 1'], top_pair['Stock 2']\n",
    "\n",
    "# Calculate the ratio for the top pair\n",
    "ratio = historical_data[stock1] / historical_data[stock2]\n",
    "\n",
    "# Generate features for the ratio\n",
    "features = generate_features(ratio)\n",
    "\n",
    "# Define target signals based on z-score thresholds\n",
    "entry_threshold = 1.5\n",
    "exit_threshold = 0\n",
    "\n",
    "features['target'] = np.where(features['z_score'] > entry_threshold, -1,\n",
    "                              np.where(features['z_score'] < -entry_threshold, 1, 0))\n",
    "\n",
    "# Split data into train and test sets\n",
    "X = features[['30d_ma', '5d_ma']]\n",
    "y = features['target']\n",
    "\n",
    "X_train, X_test, y_train, y_test = train_test_split(X, y, test_size=0.2, random_state=42)\n",
    "\n",
    "# Train a Random Forest classifier\n",
    "model = RandomForestClassifier()\n",
    "model.fit(X_train, y_train)\n",
    "\n",
    "# Predict signals on the test set\n",
    "y_pred = model.predict(X_test)\n",
    "\n",
    "print(historical_data.head())\n",
    "print(results_df.head())\n",
    "print(filtered_results.head())\n",
    "print(sorted_results.head())"
   ]
  },
  {
   "cell_type": "code",
   "execution_count": 10,
   "metadata": {},
   "outputs": [
    {
     "name": "stdout",
     "output_type": "stream",
     "text": [
      "Positions: [('long', 7), ('short', 14), ('short', 21), ('short', 23), ('long', 26), ('long', 29), ('short', 36), ('short', 42), ('short', 46), ('long', 54), ('long', 63), ('short', 69), ('short', 74), ('long', 81), ('long', 91), ('short', 95), ('long', 107), ('long', 111), ('long', 120)]\n",
      "Returns: [np.float64(0.001822717694703074), np.float64(-0.030034985439328185), np.float64(0.006470850775002449), np.float64(0.04494473687901777), np.float64(-0.023164861043366715), np.float64(-0.04856754942090276), np.float64(-0.0035960056747558556), np.float64(-0.012837268012460521), np.float64(0.023759256147496827), np.float64(0.007274921314645688), np.float64(-0.014596674297340271), np.float64(0.016639477921134332), np.float64(0.027327566780605574), np.float64(0.019309596035311623), np.float64(0.008752660616492883), np.float64(0.04171466600076015), np.float64(0.008132286402347831), np.float64(0.0031250817665545213), np.float64(-0.0029076205768389964)]\n",
      "Total return: 0.07356885386907944\n"
     ]
    }
   ],
   "source": [
    "# Backtest using ML signals\n",
    "def backtest_ml_strategy(stock1_prices, stock2_prices, ml_predictions):\n",
    "    positions = []\n",
    "    returns = []\n",
    "    \n",
    "    position = None\n",
    "    entry_stock1_price = None\n",
    "    entry_stock2_price = None\n",
    "\n",
    "    for i in range(len(ml_predictions)):\n",
    "        if ml_predictions[i] == 1 and position is None:\n",
    "            # Enter long (Long Stock 1, Short Stock 2)\n",
    "            entry_stock1_price = stock1_prices.iloc[i]\n",
    "            entry_stock2_price = stock2_prices.iloc[i]\n",
    "            position = 'long'\n",
    "            positions.append(('long', i))\n",
    "\n",
    "        elif ml_predictions[i] == -1 and position is None:\n",
    "            # Enter short (Short Stock 1, Long Stock 2)\n",
    "            entry_stock1_price = stock1_prices.iloc[i]\n",
    "            entry_stock2_price = stock2_prices.iloc[i]\n",
    "            position = 'short'\n",
    "            positions.append(('short', i))\n",
    "\n",
    "        # Exit on model prediction or if zscore comes close to 0 (another exit rule)\n",
    "        elif (ml_predictions[i] == 0 or abs(features['z_score'].iloc[i]) < 0.1) and position is not None:\n",
    "            # Exit position\n",
    "            exit_stock1_price = stock1_prices.iloc[i]\n",
    "            exit_stock2_price = stock2_prices.iloc[i]\n",
    "            \n",
    "            if position == 'long':\n",
    "                # Return for a long position\n",
    "                returns.append(((exit_stock1_price - entry_stock1_price)/entry_stock1_price) + ((entry_stock2_price - exit_stock2_price)/entry_stock2_price))\n",
    "            elif position == 'short':\n",
    "                # Return for a short position\n",
    "                returns.append(((entry_stock1_price - exit_stock1_price)/entry_stock1_price) - ((exit_stock2_price - entry_stock2_price)/entry_stock2_price))\n",
    "            \n",
    "            # Reset position\n",
    "            position = None\n",
    "\n",
    "    return positions, returns\n",
    "\n",
    "# Adjust stock prices for the test period\n",
    "stock1_prices_test = historical_data[stock1][-len(y_test):]\n",
    "stock2_prices_test = historical_data[stock2][-len(y_test):]\n",
    "\n",
    "# Call the backtest function with appropriate inputs\n",
    "positions, returns = backtest_ml_strategy(stock1_prices_test, stock2_prices_test, y_pred)\n",
    "\n",
    "# Print positions and returns\n",
    "print(\"Positions:\", positions)\n",
    "print(\"Returns:\", returns)\n",
    "print(\"Total return:\", sum(returns))\n"
   ]
  }
 ],
 "metadata": {
  "kernelspec": {
   "display_name": "Python 3",
   "language": "python",
   "name": "python3"
  },
  "language_info": {
   "codemirror_mode": {
    "name": "ipython",
    "version": 3
   },
   "file_extension": ".py",
   "mimetype": "text/x-python",
   "name": "python",
   "nbconvert_exporter": "python",
   "pygments_lexer": "ipython3",
   "version": "3.11.9"
  }
 },
 "nbformat": 4,
 "nbformat_minor": 2
}
